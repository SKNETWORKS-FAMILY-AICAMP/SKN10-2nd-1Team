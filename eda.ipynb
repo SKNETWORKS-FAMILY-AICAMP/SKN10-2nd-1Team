{
 "cells": [
  {
   "cell_type": "code",
   "execution_count": 1,
   "metadata": {},
   "outputs": [],
   "source": [
    "import pandas as pd"
   ]
  },
  {
   "cell_type": "code",
   "execution_count": 3,
   "metadata": {},
   "outputs": [],
   "source": [
    "df = pd.read_csv('./data/Bank Customer Churn Prediction.csv')"
   ]
  },
  {
   "cell_type": "code",
   "execution_count": 9,
   "metadata": {},
   "outputs": [
    {
     "data": {
      "text/plain": [
       "products_number\n",
       "1    0.5084\n",
       "2    0.4590\n",
       "3    0.0266\n",
       "4    0.0060\n",
       "Name: proportion, dtype: float64"
      ]
     },
     "execution_count": 9,
     "metadata": {},
     "output_type": "execute_result"
    }
   ],
   "source": [
    "df['products_number'].value_counts(normalize=True)\n",
    "\n",
    "# products_number 3 이상 데이터 처리\n",
    "# df['products_number'] = df['products_number'].apply(lambda x: 3 if x >= 3 else x)"
   ]
  },
  {
   "cell_type": "code",
   "execution_count": 10,
   "metadata": {},
   "outputs": [
    {
     "data": {
      "text/plain": [
       "<Axes: xlabel='balance', ylabel='Count'>"
      ]
     },
     "execution_count": 10,
     "metadata": {},
     "output_type": "execute_result"
    },
    {
     "data": {
      "image/png": "[encoded data removed]",
      "text/plain": [
       "<Figure size 640x480 with 1 Axes>"
      ]
     },
     "metadata": {},
     "output_type": "display_data"
    }
   ],
   "source": [
    "import matplotlib.pyplot as plt\n",
    "import seaborn as sns\n",
    "\n",
    "sns.histplot(df['balance'], kde=True)\n",
    "\n",
    "# balance 0 값 처리  (balance_0 컬럼 추가 후 0값을 중앙값으로 대체)\n",
    "# df['balance_0'] = df['balance'].apply(lambda x: 1 if x == 0 else 0)\n",
    "# median_balance = df.loc[df['balance'] != 0, 'balance'].median()\n",
    "# df.loc[df['balance'] == 0, 'balance'] = median_balance"
   ]
  },
  {
   "cell_type": "code",
   "execution_count": 11,
   "metadata": {},
   "outputs": [
    {
     "data": {
      "text/html": [
       "<div>\n",
       "<style scoped>\n",
       "    .dataframe tbody tr th:only-of-type {\n",
       "        vertical-align: middle;\n",
       "    }\n",
       "\n",
       "    .dataframe tbody tr th {\n",
       "        vertical-align: top;\n",
       "    }\n",
       "\n",
       "    .dataframe thead th {\n",
       "        text-align: right;\n",
       "    }\n",
       "</style>\n",
       "<table border=\"1\" class=\"dataframe\">\n",
       "  <thead>\n",
       "    <tr style=\"text-align: right;\">\n",
       "      <th></th>\n",
       "      <th>credit_score</th>\n",
       "      <th>balance</th>\n",
       "      <th>age</th>\n",
       "      <th>estimated_salary</th>\n",
       "    </tr>\n",
       "  </thead>\n",
       "  <tbody>\n",
       "    <tr>\n",
       "      <th>count</th>\n",
       "      <td>10000.000000</td>\n",
       "      <td>10000.000000</td>\n",
       "      <td>10000.000000</td>\n",
       "      <td>10000.000000</td>\n",
       "    </tr>\n",
       "    <tr>\n",
       "      <th>mean</th>\n",
       "      <td>650.528800</td>\n",
       "      <td>76485.889288</td>\n",
       "      <td>38.921800</td>\n",
       "      <td>100090.239881</td>\n",
       "    </tr>\n",
       "    <tr>\n",
       "      <th>std</th>\n",
       "      <td>96.653299</td>\n",
       "      <td>62397.405202</td>\n",
       "      <td>10.487806</td>\n",
       "      <td>57510.492818</td>\n",
       "    </tr>\n",
       "    <tr>\n",
       "      <th>min</th>\n",
       "      <td>350.000000</td>\n",
       "      <td>0.000000</td>\n",
       "      <td>18.000000</td>\n",
       "      <td>11.580000</td>\n",
       "    </tr>\n",
       "    <tr>\n",
       "      <th>25%</th>\n",
       "      <td>584.000000</td>\n",
       "      <td>0.000000</td>\n",
       "      <td>32.000000</td>\n",
       "      <td>51002.110000</td>\n",
       "    </tr>\n",
       "    <tr>\n",
       "      <th>50%</th>\n",
       "      <td>652.000000</td>\n",
       "      <td>97198.540000</td>\n",
       "      <td>37.000000</td>\n",
       "      <td>100193.915000</td>\n",
       "    </tr>\n",
       "    <tr>\n",
       "      <th>75%</th>\n",
       "      <td>718.000000</td>\n",
       "      <td>127644.240000</td>\n",
       "      <td>44.000000</td>\n",
       "      <td>149388.247500</td>\n",
       "    </tr>\n",
       "    <tr>\n",
       "      <th>max</th>\n",
       "      <td>850.000000</td>\n",
       "      <td>250898.090000</td>\n",
       "      <td>92.000000</td>\n",
       "      <td>199992.480000</td>\n",
       "    </tr>\n",
       "  </tbody>\n",
       "</table>\n",
       "</div>"
      ],
      "text/plain": [
       "       credit_score        balance           age  estimated_salary\n",
       "count  10000.000000   10000.000000  10000.000000      10000.000000\n",
       "mean     650.528800   76485.889288     38.921800     100090.239881\n",
       "std       96.653299   62397.405202     10.487806      57510.492818\n",
       "min      350.000000       0.000000     18.000000         11.580000\n",
       "25%      584.000000       0.000000     32.000000      51002.110000\n",
       "50%      652.000000   97198.540000     37.000000     100193.915000\n",
       "75%      718.000000  127644.240000     44.000000     149388.247500\n",
       "max      850.000000  250898.090000     92.000000     199992.480000"
      ]
     },
     "execution_count": 11,
     "metadata": {},
     "output_type": "execute_result"
    }
   ],
   "source": [
    "df[['credit_score', 'balance', 'age', 'estimated_salary']].describe()\n",
    "\n",
    "\n",
    "# 수치형 데이터 범주화    \n",
    "# df['credit_score_seg'] = df['credit_score'].apply(lambda x: 0 if x <= 349 else (1 if x <= 500 else (2 if x <= 590 else (3 if x <= 620 else (4 if x <= 660 else (5 if x <= 690 else (6 if x <= 720 else 7)))))))\n",
    "# df['balance_seg'] = df['balance'].apply(lambda x: 0 if x <= 50000 else (1 if x <= 90000 else (2 if x <= 127000 else 3)))\n",
    "# df['age_seg'] = df['age'].apply(lambda x: 0 if x <= 17 else (1 if x <= 36 else (2 if x <= 55 else 3)))\n",
    "# df['estimated_salary_seg'] = df['estimated_salary'].apply(lambda x: 0 if x <= 51002 else (1 if x <= 100193 else (2 if x <= 149388 else 3)))"
   ]
  },
  {
   "cell_type": "code",
   "execution_count": null,
   "metadata": {},
   "outputs": [],
   "source": []
  }
 ],
 "metadata": {
  "kernelspec": {
   "display_name": ".venv",
   "language": "python",
   "name": "python3"
  },
  "language_info": {
   "codemirror_mode": {
    "name": "ipython",
    "version": 3
   },
   "file_extension": ".py",
   "mimetype": "text/x-python",
   "name": "python",
   "nbconvert_exporter": "python",
   "pygments_lexer": "ipython3",
   "version": "3.13.1"
  }
 },
 "nbformat": 4,
 "nbformat_minor": 2
}
